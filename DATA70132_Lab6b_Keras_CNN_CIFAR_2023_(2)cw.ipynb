{
  "cells": [
    {
      "cell_type": "markdown",
      "metadata": {
        "id": "m_SLMzgGIpjE"
      },
      "source": [
        "Advanced Convolutional Neural Networks (CNNs) with CIFAR-10 dataset\n",
        "=========\n",
        "\n",
        "In this tutorial we will learn how to use more complex CNNs, showing that the training of a __deeper__ CNN can improve the performance of the model. We will also explore the concept of __data augmentation__ to understand how to increase the variability of the training set by, for example, rotating the original images to generate new training stimuli.\n",
        "\n",
        "This tutorail will use the CIFAR-10 training set.\n"
      ]
    },
    {
      "cell_type": "markdown",
      "metadata": {
        "id": "PKafL_SXIpjI"
      },
      "source": [
        "**CNN for CIFAR-10**\n",
        "\n",
        "To work with more complex CNNs, we will now use a more complex training dataset called __CIFAR-10__. https://www.cs.toronto.edu/~kriz/cifar.html . CIFAR-10 is a benchamark machine learning set of low-resolution, colour images. It includes 60000 32x32 colour (using 3 RGB colour channels) images in these 10 classes of objects: airplane, automobile, bird, cat, deer, dog, frog, horse, ship, truck. Each class has 6000. There are 50000 training images and 10000 test images. This dataset is enclosed in the default Anaconda KERAS package.\n"
      ]
    },
    {
      "cell_type": "markdown",
      "metadata": {
        "id": "XSw16YYkIpjK"
      },
      "source": [
        "**Initialisation of the program**\n",
        "\n",
        "The program starts with the importing of typical Keras and other Python service modules."
      ]
    },
    {
      "cell_type": "code",
      "execution_count": null,
      "metadata": {
        "colab": {
          "base_uri": "https://localhost:8080/"
        },
        "id": "x595vK3pIpjN",
        "outputId": "49be56c4-aa6c-4b8b-b8b5-ce063d2a85e0"
      },
      "outputs": [
        {
          "output_type": "stream",
          "name": "stdout",
          "text": [
            "Libraries imported.\n"
          ]
        }
      ],
      "source": [
        "# importing of modules for CIFAR-10 CNN\n",
        "from tensorflow.keras.datasets import cifar10\n",
        "from tensorflow.keras import utils\n",
        "from tensorflow.keras.models import Sequential\n",
        "from tensorflow.keras.layers import Dense, Dropout, Activation, Flatten\n",
        "from tensorflow.keras.layers import Conv2D, MaxPooling2D\n",
        "from tensorflow.keras.optimizers.legacy import SGD, Adam, RMSprop\n",
        "\n",
        "# importing of service libraries\n",
        "import numpy as np\n",
        "import matplotlib.pyplot as plt\n",
        "\n",
        "print('Libraries imported.')"
      ]
    },
    {
      "cell_type": "markdown",
      "metadata": {
        "id": "Wx5--x5hIpjV"
      },
      "source": [
        "The following constant and variable definitions are needed for the network and training parameters.\n"
      ]
    },
    {
      "cell_type": "code",
      "execution_count": null,
      "metadata": {
        "id": "O1SvoRcMIpjX",
        "colab": {
          "base_uri": "https://localhost:8080/"
        },
        "outputId": "5748854f-214c-4973-d941-43c8c1fca998"
      },
      "outputs": [
        {
          "output_type": "stream",
          "name": "stdout",
          "text": [
            "Main variables initialised.\n"
          ]
        }
      ],
      "source": [
        "#training constants\n",
        "BATCH_SIZE = 128\n",
        "N_EPOCH = 50 # use 20 for best initial results\n",
        "N_CLASSES = 10\n",
        "VERBOSE = 1\n",
        "VALIDATION_SPLIT = 0.2\n",
        "OPTIM = RMSprop()\n",
        "\n",
        "print('Main variables initialised.')"
      ]
    },
    {
      "cell_type": "markdown",
      "metadata": {
        "id": "KpuekS__Ipjd"
      },
      "source": [
        "Constant definition for the training set images"
      ]
    },
    {
      "cell_type": "code",
      "execution_count": null,
      "metadata": {
        "id": "DWaibn5BIpje",
        "colab": {
          "base_uri": "https://localhost:8080/"
        },
        "outputId": "a75e93ba-91cd-417e-fade-206d4c02cd68"
      },
      "outputs": [
        {
          "output_type": "stream",
          "name": "stdout",
          "text": [
            "Image variables initialisation\n"
          ]
        }
      ],
      "source": [
        "# CIFAR_10 is a set of 60K images 32x32 pixels on 3 channels\n",
        "IMG_CHANNELS = 3\n",
        "IMG_ROWS = 32\n",
        "IMG_COLS = 32\n",
        "\n",
        "print('Image variables initialisation')"
      ]
    },
    {
      "cell_type": "markdown",
      "metadata": {
        "id": "QcOhLgJ8Ipjk"
      },
      "source": [
        "__CIFAR-10 data loading and processing__\n",
        "\n",
        "Loading and preparation of the CIFAR-10 training set."
      ]
    },
    {
      "cell_type": "code",
      "execution_count": null,
      "metadata": {
        "id": "uVzGwn80Ipjm",
        "colab": {
          "base_uri": "https://localhost:8080/"
        },
        "outputId": "c4c42677-1fea-4eee-d5bb-6730552f3de0"
      },
      "outputs": [
        {
          "output_type": "stream",
          "name": "stdout",
          "text": [
            "Downloading data from https://www.cs.toronto.edu/~kriz/cifar-10-python.tar.gz\n",
            "170498071/170498071 [==============================] - 2s 0us/step\n",
            "input_X_train shape: (50000, 32, 32, 3)\n",
            "50000 train samples\n",
            "10000 test samples\n"
          ]
        }
      ],
      "source": [
        "#load dataset\n",
        "(input_X_train, output_y_train), (input_X_test, output_y_test) = cifar10.load_data()\n",
        "print('input_X_train shape:', input_X_train.shape)\n",
        "print(input_X_train.shape[0], 'train samples')\n",
        "print(input_X_test.shape[0], 'test samples')\n",
        "\n",
        "# convert to categorical\n",
        "output_Y_train = utils.to_categorical(output_y_train, N_CLASSES)\n",
        "output_Y_test = utils.to_categorical(output_y_test, N_CLASSES)\n",
        "\n",
        "# float and normalization\n",
        "input_X_train = input_X_train.astype('float32')\n",
        "input_X_test = input_X_test.astype('float32')\n",
        "input_X_train /= 255\n",
        "input_X_test /= 255\n"
      ]
    },
    {
      "cell_type": "markdown",
      "metadata": {
        "id": "f6_L0SrmIpjr"
      },
      "source": [
        "**Visualisation of two sample CIFAR-10 images**\n",
        "\n",
        "Here we will visualise two sample images from the dataset."
      ]
    },
    {
      "cell_type": "code",
      "execution_count": null,
      "metadata": {
        "id": "U2gu1BhgIpjs"
      },
      "outputs": [],
      "source": [
        "# visualisation of the numerical vector and 2D colour plot of the sample CIFAR imnage 2\n",
        "# Selected_Image = 2\n",
        "# image = input_X_train[Selected_Image]\n",
        "# print (\"Sample input image: \" + str(image))\n",
        "# plt.imshow(image)\n",
        "# plt.show()\n",
        "\n",
        "# Selected_Image = 3\n",
        "# image = input_X_train[Selected_Image]\n",
        "# print (\"Sample input image: \" + str(image))\n",
        "# plt.imshow(image)\n",
        "# plt.show()\n",
        "\n",
        "\n",
        "\n"
      ]
    },
    {
      "cell_type": "markdown",
      "metadata": {
        "id": "rTUkz65eIpjx"
      },
      "source": [
        "**Simple CNN model definition**\n",
        "\n",
        "This code defines a simple CNN network.\n",
        "The model will learn 32 convolutional filters, each of a 3 x 3 size. The output dimension is the same one of the input shape, with a 32 x 32 filters (default stride of 1 is used). The activation function ReLU will be used.\n",
        "The network then has a max-pooling layer with pool size 2 x 2, and a dropout at 25%.\n",
        "\n",
        "The next level of depth has a dense layer with 512 units and ReLU activation, followed by a dropout at 50%.\n",
        "Finally, a softmax layer is used with 10 units/classes as output, i.e. one for each of the 10 classes of objects encoded with one-hot coding."
      ]
    },
    {
      "cell_type": "code",
      "source": [
        "#define the convnet\n",
        "\n",
        "# model = Sequential()\n",
        "\n",
        "# CONV => RELU => POOL\n",
        "# model.add(Conv2D(32, kernel_size=3, padding=\"same\", input_shape=(IMG_ROWS, IMG_COLS, IMG_CHANNELS)))\n",
        "# model.add(Activation(\"relu\"))\n",
        "# model.add(MaxPooling2D(pool_size=(2, 2), strides=(2, 2), padding='same'))\n",
        "# model.add(Dropout(0.25))\n",
        "\n",
        "# # CONV => RELU => POOL\n",
        "# model.add(Conv2D(64, kernel_size=3, padding=\"same\"))\n",
        "# model.add(Activation(\"relu\"))\n",
        "# model.add(MaxPooling2D(pool_size=(2, 2), strides=(2, 2), padding='same'))\n",
        "# model.add(Dropout(0.25))\n",
        "\n",
        "# # Flatten => RELU layers\n",
        "# model.add(Flatten())\n",
        "# model.add(Dense(512))\n",
        "# model.add(Activation(\"relu\"))\n",
        "# model.add(Dropout(0.50))\n",
        "\n",
        "# # a softmax classifier\n",
        "# model.add(Dense(N_CLASSES))\n",
        "# model.add(Activation(\"softmax\"))\n",
        "\n",
        "\n",
        "# print('LeNet class defined.')"
      ],
      "metadata": {
        "id": "rz683EGh7Gnl"
      },
      "execution_count": null,
      "outputs": []
    },
    {
      "cell_type": "code",
      "source": [],
      "metadata": {
        "id": "q-bsjuk9UnEy"
      },
      "execution_count": null,
      "outputs": []
    },
    {
      "cell_type": "markdown",
      "metadata": {
        "id": "M8B4dEyVIpj2"
      },
      "source": [
        "**Model compilation**\n",
        "\n",
        "This compiles the CNN model, and then shows its summary.\n"
      ]
    },
    {
      "cell_type": "code",
      "execution_count": null,
      "metadata": {
        "id": "rLrhT0HSIpj4",
        "scrolled": true
      },
      "outputs": [],
      "source": [
        "# compile the model\n",
        "# optim = SGD(lr=0.01, decay=1e-6, momentum=0.9, nesterov=True)\n",
        "# model.compile(loss='categorical_crossentropy', optimizer=optim, metrics=['accuracy'])\n",
        "\n",
        "# model.summary()\n"
      ]
    },
    {
      "cell_type": "markdown",
      "metadata": {
        "id": "rAJPemJyIpj9"
      },
      "source": [
        "**Training of the CNN**\n",
        "\n",
        "This line of code trains the model, saving the results in the history variable.\n",
        "\n"
      ]
    },
    {
      "cell_type": "code",
      "execution_count": null,
      "metadata": {
        "id": "s9K5fqdXIpj-"
      },
      "outputs": [],
      "source": [
        "# training/fitting of the DNN model\n",
        "\n",
        "# history = model.fit(input_X_train, output_Y_train, batch_size=BATCH_SIZE, epochs=N_EPOCH, validation_split=VALIDATION_SPLIT,  verbose=VERBOSE)\n"
      ]
    },
    {
      "cell_type": "markdown",
      "metadata": {
        "id": "7-kbN3RlIpkD"
      },
      "source": [
        "**Saving of the model and of the trained weights**\n",
        "\n",
        "This saves the model definition and the weights, after training.\n",
        "\n"
      ]
    },
    {
      "cell_type": "code",
      "execution_count": null,
      "metadata": {
        "id": "Z57S_sTRIpkF"
      },
      "outputs": [],
      "source": [
        "# #save model in json format into a file\n",
        "# model_json = model.to_json()\n",
        "# open('cifar10_architecture.json', 'w').write(model_json)\n",
        "\n",
        "# #save the trained weights\n",
        "# model.save_weights('cifar10_weights.h5', overwrite=True)\n",
        "\n",
        "# print('Files saved for model definition and for weights.')"
      ]
    },
    {
      "cell_type": "markdown",
      "metadata": {
        "id": "7GvXVkx1IpkJ"
      },
      "source": [
        "**Analysis of the results**\n",
        "\n",
        "This code generates the test scores, so we can visualise and inspect the model's peformance.\n",
        "\n",
        "It also plots the accuracy and loss values along the training timescale.\n"
      ]
    },
    {
      "cell_type": "code",
      "execution_count": null,
      "metadata": {
        "id": "N2XtixmtIpkL"
      },
      "outputs": [],
      "source": [
        "#Testing\n",
        "# score = model.evaluate(input_X_test, output_Y_test, batch_size=BATCH_SIZE, verbose=VERBOSE)\n",
        "# print(\"\\nTest score/loss:\", score[0])\n",
        "# print('Test accuracy:', score[1])\n",
        "\n",
        "# # list all data in history\n",
        "# print(history.history.keys())\n",
        "\n",
        "# # summarize history for accuracy\n",
        "# #plt.plot(mo)\n",
        "# plt.plot(history.history['accuracy'])\n",
        "# plt.plot(history.history['val_accuracy'])\n",
        "# plt.title('model accuracy')\n",
        "# plt.ylabel('accuracy')\n",
        "# plt.xlabel('epoch')\n",
        "# plt.legend(['train', 'test'], loc='upper left')\n",
        "# plt.show()\n",
        "\n",
        "# # summarize history for loss\n",
        "# plt.plot(history.history['loss'])\n",
        "# plt.plot(history.history['val_loss'])\n",
        "# plt.title('model loss')\n",
        "# plt.ylabel('loss')\n",
        "# plt.xlabel('epoch')\n",
        "# plt.legend(['train', 'test'], loc='upper left')\n",
        "# plt.show()\n"
      ]
    },
    {
      "cell_type": "markdown",
      "metadata": {
        "id": "1o9i5nqDIpkO"
      },
      "source": [
        "A deeper CNN\n",
        "-------------\n",
        "\n",
        "To improve the performance of the network on the CIFAR-10 dataset, it is possible to use a deeper CNN, with a chain of multiple convolution and pooling layers.\n",
        "The following network will be used:\n",
        "\n",
        "conv+conv+maxpool+dropout+conv+conv+maxpool\n",
        "\n",
        "The final classification layers will use the standard:\n",
        "\n",
        "dense+dropout+dense\n",
        "\n",
        "All the layers will use the reLu function, except the final one with the Softmax function necessary for the categorical classification\n"
      ]
    },
    {
      "cell_type": "code",
      "execution_count": null,
      "metadata": {
        "id": "VmaK6n4AIpkP"
      },
      "outputs": [],
      "source": [
        "# REUSE THE SAME INITIALISATION CODE AND THE TRAINING AND TEST DATA SET LOADING OPERATION\n",
        "\n",
        "\n",
        "# N_EPOCH = 150\n",
        "\n",
        "# model = Sequential()\n",
        "# model.add(Conv2D(32, kernel_size=3, padding='same', input_shape=(IMG_ROWS, IMG_COLS, IMG_CHANNELS)))\n",
        "# model.add(Activation('relu'))\n",
        "# model.add(MaxPooling2D(pool_size=(3, 3)))\n",
        "# model.add(Dropout(0.25))\n",
        "\n",
        "# model.add(Conv2D(64, kernel_size=3, padding='same'))\n",
        "# model.add(Activation('relu'))\n",
        "# model.add(MaxPooling2D(pool_size=(3, 3)))\n",
        "# model.add(Dropout(0.25))\n",
        "\n",
        "# model.add(Conv2D(128, kernel_size=3, padding='same'))\n",
        "# model.add(Activation('relu'))\n",
        "# model.add(Conv2D(128, kernel_size=3, padding='same'))\n",
        "# model.add(Activation('relu'))\n",
        "# model.add(Conv2D(128, kernel_size=3, padding='same'))\n",
        "# model.add(Activation('relu'))\n",
        "# model.add(MaxPooling2D(pool_size=(3, 3)))\n",
        "# model.add(Dropout(0.25))\n",
        "\n",
        "# model.add(Flatten())\n",
        "# model.add(Dense(512))\n",
        "# model.add(Activation('relu'))\n",
        "# model.add(Dropout(0.5))\n",
        "# model.add(Dense(512))\n",
        "# model.add(Activation('relu'))\n",
        "# model.add(Dropout(0.5))\n",
        "# model.add(Dense(N_CLASSES))\n",
        "# model.add(Activation('softmax'))\n",
        "\n",
        "# optim = SGD(lr=0.01, decay=0.0005, momentum=0.9, nesterov=True)\n",
        "# model.compile(loss='categorical_crossentropy', optimizer=optim, metrics=['accuracy'])\n",
        "# model.summary()\n",
        "\n"
      ]
    },
    {
      "cell_type": "code",
      "source": [
        "# VGG-16 Net\n",
        "N_EPOCH = 100 # 40 bigger network will benefit from extra training epochs\n",
        "\n",
        "# Complex DNN model definition\n",
        "model = Sequential()\n",
        "\n",
        "model.add(Conv2D(32, kernel_size=3, padding='same', input_shape=(IMG_ROWS, IMG_COLS, IMG_CHANNELS)))\n",
        "model.add(Activation('relu'))\n",
        "model.add(Conv2D(32, kernel_size=3, padding='same'))\n",
        "model.add(Activation('relu'))\n",
        "model.add(MaxPooling2D(pool_size=(2, 2)))\n",
        "model.add(Dropout(0.25))\n",
        "\n",
        "model.add(Conv2D(64, kernel_size=3, padding='same'))\n",
        "model.add(Activation('relu'))\n",
        "model.add(Conv2D(64, kernel_size=3, padding='same'))\n",
        "model.add(Activation('relu'))\n",
        "model.add(MaxPooling2D(pool_size=(2, 2)))\n",
        "model.add(Dropout(0.25))\n",
        "\n",
        "model.add(Conv2D(128, kernel_size=3, padding='same'))\n",
        "model.add(Activation('relu'))\n",
        "model.add(Conv2D(128, kernel_size=3, padding='same'))\n",
        "model.add(Activation('relu'))\n",
        "model.add(Conv2D(128, kernel_size=3, padding='same'))\n",
        "model.add(Activation('relu'))\n",
        "model.add(MaxPooling2D(pool_size=(2, 2)))\n",
        "model.add(Dropout(0.25))\n",
        "\n",
        "model.add(Conv2D(256, kernel_size=3, padding='same'))\n",
        "model.add(Activation('relu'))\n",
        "model.add(Conv2D(256, kernel_size=3, padding='same'))\n",
        "model.add(Activation('relu'))\n",
        "model.add(Conv2D(256, kernel_size=3, padding='same'))\n",
        "model.add(Activation('relu'))\n",
        "model.add(MaxPooling2D(pool_size=(2, 2)))\n",
        "model.add(Dropout(0.25))\n",
        "\n",
        "model.add(Flatten())\n",
        "model.add(Dense(512))\n",
        "model.add(Activation('relu'))\n",
        "model.add(Dropout(0.5))\n",
        "model.add(Dense(512))\n",
        "model.add(Activation('relu'))\n",
        "model.add(Dropout(0.5))\n",
        "model.add(Dense(N_CLASSES))\n",
        "model.add(Activation('softmax'))\n",
        "\n",
        "\n",
        "optim = SGD(lr=0.01, decay=0.0005, momentum=0.9, nesterov=True)\n",
        "model.compile(loss='categorical_crossentropy', optimizer=optim, metrics=['accuracy'])\n",
        "\n",
        "model.summary()"
      ],
      "metadata": {
        "id": "5Bsd61w3qbZB",
        "colab": {
          "base_uri": "https://localhost:8080/"
        },
        "outputId": "633d3824-6fa3-4b92-ba5c-68a28d344906"
      },
      "execution_count": null,
      "outputs": [
        {
          "output_type": "stream",
          "name": "stdout",
          "text": [
            "Model: \"sequential\"\n",
            "_________________________________________________________________\n",
            " Layer (type)                Output Shape              Param #   \n",
            "=================================================================\n",
            " conv2d (Conv2D)             (None, 32, 32, 32)        896       \n",
            "                                                                 \n",
            " activation (Activation)     (None, 32, 32, 32)        0         \n",
            "                                                                 \n",
            " conv2d_1 (Conv2D)           (None, 32, 32, 32)        9248      \n",
            "                                                                 \n",
            " activation_1 (Activation)   (None, 32, 32, 32)        0         \n",
            "                                                                 \n",
            " max_pooling2d (MaxPooling2D  (None, 16, 16, 32)       0         \n",
            " )                                                               \n",
            "                                                                 \n",
            " dropout (Dropout)           (None, 16, 16, 32)        0         \n",
            "                                                                 \n",
            " conv2d_2 (Conv2D)           (None, 16, 16, 64)        18496     \n",
            "                                                                 \n",
            " activation_2 (Activation)   (None, 16, 16, 64)        0         \n",
            "                                                                 \n",
            " conv2d_3 (Conv2D)           (None, 16, 16, 64)        36928     \n",
            "                                                                 \n",
            " activation_3 (Activation)   (None, 16, 16, 64)        0         \n",
            "                                                                 \n",
            " max_pooling2d_1 (MaxPooling  (None, 8, 8, 64)         0         \n",
            " 2D)                                                             \n",
            "                                                                 \n",
            " dropout_1 (Dropout)         (None, 8, 8, 64)          0         \n",
            "                                                                 \n",
            " conv2d_4 (Conv2D)           (None, 8, 8, 128)         73856     \n",
            "                                                                 \n",
            " activation_4 (Activation)   (None, 8, 8, 128)         0         \n",
            "                                                                 \n",
            " conv2d_5 (Conv2D)           (None, 8, 8, 128)         147584    \n",
            "                                                                 \n",
            " activation_5 (Activation)   (None, 8, 8, 128)         0         \n",
            "                                                                 \n",
            " conv2d_6 (Conv2D)           (None, 8, 8, 128)         147584    \n",
            "                                                                 \n",
            " activation_6 (Activation)   (None, 8, 8, 128)         0         \n",
            "                                                                 \n",
            " max_pooling2d_2 (MaxPooling  (None, 4, 4, 128)        0         \n",
            " 2D)                                                             \n",
            "                                                                 \n",
            " dropout_2 (Dropout)         (None, 4, 4, 128)         0         \n",
            "                                                                 \n",
            " conv2d_7 (Conv2D)           (None, 4, 4, 256)         295168    \n",
            "                                                                 \n",
            " activation_7 (Activation)   (None, 4, 4, 256)         0         \n",
            "                                                                 \n",
            " conv2d_8 (Conv2D)           (None, 4, 4, 256)         590080    \n",
            "                                                                 \n",
            " activation_8 (Activation)   (None, 4, 4, 256)         0         \n",
            "                                                                 \n",
            " conv2d_9 (Conv2D)           (None, 4, 4, 256)         590080    \n",
            "                                                                 \n",
            " activation_9 (Activation)   (None, 4, 4, 256)         0         \n",
            "                                                                 \n",
            " max_pooling2d_3 (MaxPooling  (None, 2, 2, 256)        0         \n",
            " 2D)                                                             \n",
            "                                                                 \n",
            " dropout_3 (Dropout)         (None, 2, 2, 256)         0         \n",
            "                                                                 \n",
            " flatten (Flatten)           (None, 1024)              0         \n",
            "                                                                 \n",
            " dense (Dense)               (None, 512)               524800    \n",
            "                                                                 \n",
            " activation_10 (Activation)  (None, 512)               0         \n",
            "                                                                 \n",
            " dropout_4 (Dropout)         (None, 512)               0         \n",
            "                                                                 \n",
            " dense_1 (Dense)             (None, 512)               262656    \n",
            "                                                                 \n",
            " activation_11 (Activation)  (None, 512)               0         \n",
            "                                                                 \n",
            " dropout_5 (Dropout)         (None, 512)               0         \n",
            "                                                                 \n",
            " dense_2 (Dense)             (None, 10)                5130      \n",
            "                                                                 \n",
            " activation_12 (Activation)  (None, 10)                0         \n",
            "                                                                 \n",
            "=================================================================\n",
            "Total params: 2,702,506\n",
            "Trainable params: 2,702,506\n",
            "Non-trainable params: 0\n",
            "_________________________________________________________________\n"
          ]
        },
        {
          "output_type": "stream",
          "name": "stderr",
          "text": [
            "/usr/local/lib/python3.9/dist-packages/keras/optimizers/legacy/gradient_descent.py:114: UserWarning: The `lr` argument is deprecated, use `learning_rate` instead.\n",
            "  super().__init__(name, **kwargs)\n"
          ]
        }
      ]
    },
    {
      "cell_type": "markdown",
      "metadata": {
        "id": "N_WU_cUNkmr-"
      },
      "source": [
        "**Training of the deeper CNN**\n",
        "\n",
        "Let's train (fit) this new model.\n",
        "\n"
      ]
    },
    {
      "cell_type": "code",
      "execution_count": null,
      "metadata": {
        "colab": {
          "base_uri": "https://localhost:8080/"
        },
        "id": "ctRJSHkVkmr_",
        "outputId": "8348f959-ec77-4556-af35-fc3eb4857eab"
      },
      "outputs": [
        {
          "output_type": "stream",
          "name": "stdout",
          "text": [
            "Epoch 1/100\n",
            "313/313 [==============================] - 17s 25ms/step - loss: 2.2921 - accuracy: 0.1170 - val_loss: 2.3208 - val_accuracy: 0.0997\n",
            "Epoch 2/100\n",
            "313/313 [==============================] - 7s 21ms/step - loss: 2.3045 - accuracy: 0.1001 - val_loss: 2.3026 - val_accuracy: 0.0997\n",
            "Epoch 3/100\n",
            "313/313 [==============================] - 7s 22ms/step - loss: 2.3031 - accuracy: 0.1008 - val_loss: 2.3030 - val_accuracy: 0.0952\n",
            "Epoch 4/100\n",
            "313/313 [==============================] - 7s 21ms/step - loss: 2.3031 - accuracy: 0.0998 - val_loss: 2.3026 - val_accuracy: 0.0997\n",
            "Epoch 5/100\n",
            "313/313 [==============================] - 7s 21ms/step - loss: 2.3028 - accuracy: 0.1021 - val_loss: 2.3029 - val_accuracy: 0.0977\n",
            "Epoch 6/100\n",
            "313/313 [==============================] - 6s 21ms/step - loss: 2.3008 - accuracy: 0.1065 - val_loss: 2.2859 - val_accuracy: 0.1558\n",
            "Epoch 7/100\n",
            "313/313 [==============================] - 7s 22ms/step - loss: 2.1289 - accuracy: 0.1881 - val_loss: 2.0259 - val_accuracy: 0.2074\n",
            "Epoch 8/100\n",
            "313/313 [==============================] - 7s 21ms/step - loss: 1.9433 - accuracy: 0.2374 - val_loss: 1.8628 - val_accuracy: 0.2759\n",
            "Epoch 9/100\n",
            "313/313 [==============================] - 7s 22ms/step - loss: 1.8330 - accuracy: 0.2822 - val_loss: 1.7339 - val_accuracy: 0.3317\n",
            "Epoch 10/100\n",
            "313/313 [==============================] - 7s 22ms/step - loss: 1.7395 - accuracy: 0.3252 - val_loss: 1.7344 - val_accuracy: 0.3444\n",
            "Epoch 11/100\n",
            "313/313 [==============================] - 7s 21ms/step - loss: 1.6570 - accuracy: 0.3611 - val_loss: 1.5640 - val_accuracy: 0.4084\n",
            "Epoch 12/100\n",
            "313/313 [==============================] - 7s 22ms/step - loss: 1.5886 - accuracy: 0.3890 - val_loss: 1.4903 - val_accuracy: 0.4361\n",
            "Epoch 13/100\n",
            "313/313 [==============================] - 7s 21ms/step - loss: 1.5289 - accuracy: 0.4202 - val_loss: 1.5015 - val_accuracy: 0.4412\n",
            "Epoch 14/100\n",
            "313/313 [==============================] - 7s 21ms/step - loss: 1.4626 - accuracy: 0.4514 - val_loss: 1.4466 - val_accuracy: 0.4722\n",
            "Epoch 15/100\n",
            "313/313 [==============================] - 7s 21ms/step - loss: 1.4062 - accuracy: 0.4765 - val_loss: 1.2998 - val_accuracy: 0.5204\n",
            "Epoch 16/100\n",
            "313/313 [==============================] - 7s 22ms/step - loss: 1.3471 - accuracy: 0.5016 - val_loss: 1.3057 - val_accuracy: 0.5307\n",
            "Epoch 17/100\n",
            "313/313 [==============================] - 7s 21ms/step - loss: 1.2964 - accuracy: 0.5252 - val_loss: 1.2153 - val_accuracy: 0.5520\n",
            "Epoch 18/100\n",
            "313/313 [==============================] - 7s 22ms/step - loss: 1.2465 - accuracy: 0.5463 - val_loss: 1.2618 - val_accuracy: 0.5373\n",
            "Epoch 19/100\n",
            "313/313 [==============================] - 7s 22ms/step - loss: 1.2042 - accuracy: 0.5648 - val_loss: 1.0836 - val_accuracy: 0.6017\n",
            "Epoch 20/100\n",
            "313/313 [==============================] - 7s 22ms/step - loss: 1.1667 - accuracy: 0.5796 - val_loss: 1.1539 - val_accuracy: 0.5918\n",
            "Epoch 21/100\n",
            "313/313 [==============================] - 7s 23ms/step - loss: 1.1280 - accuracy: 0.5929 - val_loss: 1.0354 - val_accuracy: 0.6296\n",
            "Epoch 22/100\n",
            "313/313 [==============================] - 7s 21ms/step - loss: 1.0956 - accuracy: 0.6049 - val_loss: 1.0178 - val_accuracy: 0.6261\n",
            "Epoch 23/100\n",
            "313/313 [==============================] - 7s 22ms/step - loss: 1.0627 - accuracy: 0.6194 - val_loss: 1.0242 - val_accuracy: 0.6239\n",
            "Epoch 24/100\n",
            "313/313 [==============================] - 7s 22ms/step - loss: 1.0317 - accuracy: 0.6266 - val_loss: 0.9780 - val_accuracy: 0.6433\n",
            "Epoch 25/100\n",
            "313/313 [==============================] - 7s 22ms/step - loss: 1.0064 - accuracy: 0.6399 - val_loss: 0.9568 - val_accuracy: 0.6519\n",
            "Epoch 26/100\n",
            "313/313 [==============================] - 7s 21ms/step - loss: 0.9859 - accuracy: 0.6469 - val_loss: 0.9482 - val_accuracy: 0.6576\n",
            "Epoch 27/100\n",
            "313/313 [==============================] - 7s 22ms/step - loss: 0.9619 - accuracy: 0.6567 - val_loss: 0.8979 - val_accuracy: 0.6733\n",
            "Epoch 28/100\n",
            "313/313 [==============================] - 7s 22ms/step - loss: 0.9371 - accuracy: 0.6656 - val_loss: 0.9324 - val_accuracy: 0.6651\n",
            "Epoch 29/100\n",
            "313/313 [==============================] - 7s 22ms/step - loss: 0.9141 - accuracy: 0.6751 - val_loss: 0.8797 - val_accuracy: 0.6855\n",
            "Epoch 30/100\n",
            "313/313 [==============================] - 7s 21ms/step - loss: 0.8928 - accuracy: 0.6830 - val_loss: 0.8276 - val_accuracy: 0.7052\n",
            "Epoch 31/100\n",
            "313/313 [==============================] - 7s 21ms/step - loss: 0.8743 - accuracy: 0.6895 - val_loss: 0.8039 - val_accuracy: 0.7138\n",
            "Epoch 32/100\n",
            "313/313 [==============================] - 7s 22ms/step - loss: 0.8543 - accuracy: 0.6976 - val_loss: 0.8130 - val_accuracy: 0.7099\n",
            "Epoch 33/100\n",
            "313/313 [==============================] - 7s 21ms/step - loss: 0.8375 - accuracy: 0.7037 - val_loss: 0.7689 - val_accuracy: 0.7236\n",
            "Epoch 34/100\n",
            "313/313 [==============================] - 7s 22ms/step - loss: 0.8244 - accuracy: 0.7095 - val_loss: 0.8601 - val_accuracy: 0.7010\n",
            "Epoch 35/100\n",
            "313/313 [==============================] - 7s 21ms/step - loss: 0.8028 - accuracy: 0.7186 - val_loss: 0.7796 - val_accuracy: 0.7252\n",
            "Epoch 36/100\n",
            "313/313 [==============================] - 7s 22ms/step - loss: 0.7895 - accuracy: 0.7233 - val_loss: 0.7883 - val_accuracy: 0.7216\n",
            "Epoch 37/100\n",
            "313/313 [==============================] - 8s 25ms/step - loss: 0.7694 - accuracy: 0.7287 - val_loss: 0.7415 - val_accuracy: 0.7394\n",
            "Epoch 38/100\n",
            "313/313 [==============================] - 7s 21ms/step - loss: 0.7556 - accuracy: 0.7345 - val_loss: 0.7182 - val_accuracy: 0.7477\n",
            "Epoch 39/100\n",
            "313/313 [==============================] - 7s 22ms/step - loss: 0.7421 - accuracy: 0.7390 - val_loss: 0.7114 - val_accuracy: 0.7516\n",
            "Epoch 40/100\n",
            "313/313 [==============================] - 7s 22ms/step - loss: 0.7294 - accuracy: 0.7455 - val_loss: 0.7188 - val_accuracy: 0.7533\n",
            "Epoch 41/100\n",
            "313/313 [==============================] - 7s 22ms/step - loss: 0.7172 - accuracy: 0.7510 - val_loss: 0.6988 - val_accuracy: 0.7563\n",
            "Epoch 42/100\n",
            "313/313 [==============================] - 7s 22ms/step - loss: 0.7031 - accuracy: 0.7565 - val_loss: 0.6996 - val_accuracy: 0.7537\n",
            "Epoch 43/100\n",
            "313/313 [==============================] - 7s 22ms/step - loss: 0.6941 - accuracy: 0.7587 - val_loss: 0.7270 - val_accuracy: 0.7533\n",
            "Epoch 44/100\n",
            "313/313 [==============================] - 7s 23ms/step - loss: 0.6763 - accuracy: 0.7638 - val_loss: 0.6688 - val_accuracy: 0.7701\n",
            "Epoch 45/100\n",
            "313/313 [==============================] - 7s 21ms/step - loss: 0.6711 - accuracy: 0.7668 - val_loss: 0.6453 - val_accuracy: 0.7776\n",
            "Epoch 46/100\n",
            "313/313 [==============================] - 7s 22ms/step - loss: 0.6618 - accuracy: 0.7695 - val_loss: 0.6431 - val_accuracy: 0.7816\n",
            "Epoch 47/100\n",
            "313/313 [==============================] - 7s 22ms/step - loss: 0.6538 - accuracy: 0.7729 - val_loss: 0.6667 - val_accuracy: 0.7690\n",
            "Epoch 48/100\n",
            "313/313 [==============================] - 7s 21ms/step - loss: 0.6421 - accuracy: 0.7792 - val_loss: 0.6271 - val_accuracy: 0.7841\n",
            "Epoch 49/100\n",
            "313/313 [==============================] - 7s 21ms/step - loss: 0.6318 - accuracy: 0.7829 - val_loss: 0.6326 - val_accuracy: 0.7862\n",
            "Epoch 50/100\n",
            "313/313 [==============================] - 7s 22ms/step - loss: 0.6221 - accuracy: 0.7841 - val_loss: 0.6668 - val_accuracy: 0.7816\n",
            "Epoch 51/100\n",
            "313/313 [==============================] - 7s 21ms/step - loss: 0.6164 - accuracy: 0.7875 - val_loss: 0.6468 - val_accuracy: 0.7830\n",
            "Epoch 52/100\n",
            "313/313 [==============================] - 7s 22ms/step - loss: 0.6029 - accuracy: 0.7886 - val_loss: 0.6415 - val_accuracy: 0.7851\n",
            "Epoch 53/100\n",
            "313/313 [==============================] - 7s 22ms/step - loss: 0.5974 - accuracy: 0.7936 - val_loss: 0.6138 - val_accuracy: 0.7945\n",
            "Epoch 54/100\n",
            "313/313 [==============================] - 7s 21ms/step - loss: 0.5909 - accuracy: 0.7968 - val_loss: 0.6402 - val_accuracy: 0.7849\n",
            "Epoch 55/100\n",
            "313/313 [==============================] - 7s 22ms/step - loss: 0.5816 - accuracy: 0.8007 - val_loss: 0.6175 - val_accuracy: 0.7961\n",
            "Epoch 56/100\n",
            "313/313 [==============================] - 7s 22ms/step - loss: 0.5750 - accuracy: 0.8009 - val_loss: 0.6059 - val_accuracy: 0.7952\n",
            "Epoch 57/100\n",
            "313/313 [==============================] - 7s 22ms/step - loss: 0.5640 - accuracy: 0.8059 - val_loss: 0.6106 - val_accuracy: 0.7994\n",
            "Epoch 58/100\n",
            "313/313 [==============================] - 7s 21ms/step - loss: 0.5602 - accuracy: 0.8074 - val_loss: 0.6133 - val_accuracy: 0.7957\n",
            "Epoch 59/100\n",
            "313/313 [==============================] - 7s 22ms/step - loss: 0.5526 - accuracy: 0.8094 - val_loss: 0.6085 - val_accuracy: 0.8016\n",
            "Epoch 60/100\n",
            "313/313 [==============================] - 7s 22ms/step - loss: 0.5410 - accuracy: 0.8144 - val_loss: 0.6260 - val_accuracy: 0.7927\n",
            "Epoch 61/100\n",
            "313/313 [==============================] - 7s 21ms/step - loss: 0.5365 - accuracy: 0.8139 - val_loss: 0.6188 - val_accuracy: 0.7979\n",
            "Epoch 62/100\n",
            "313/313 [==============================] - 7s 22ms/step - loss: 0.5362 - accuracy: 0.8159 - val_loss: 0.6163 - val_accuracy: 0.7983\n",
            "Epoch 63/100\n",
            "313/313 [==============================] - 7s 22ms/step - loss: 0.5294 - accuracy: 0.8171 - val_loss: 0.6081 - val_accuracy: 0.8002\n",
            "Epoch 64/100\n",
            "313/313 [==============================] - 7s 22ms/step - loss: 0.5139 - accuracy: 0.8248 - val_loss: 0.5938 - val_accuracy: 0.8032\n",
            "Epoch 65/100\n",
            "313/313 [==============================] - 7s 21ms/step - loss: 0.5101 - accuracy: 0.8256 - val_loss: 0.5799 - val_accuracy: 0.8077\n",
            "Epoch 66/100\n",
            "313/313 [==============================] - 7s 22ms/step - loss: 0.5029 - accuracy: 0.8275 - val_loss: 0.5885 - val_accuracy: 0.8054\n",
            "Epoch 67/100\n",
            "313/313 [==============================] - 7s 22ms/step - loss: 0.5006 - accuracy: 0.8286 - val_loss: 0.5999 - val_accuracy: 0.8088\n",
            "Epoch 68/100\n",
            "313/313 [==============================] - 7s 21ms/step - loss: 0.4954 - accuracy: 0.8304 - val_loss: 0.5983 - val_accuracy: 0.8070\n",
            "Epoch 69/100\n",
            "313/313 [==============================] - 7s 21ms/step - loss: 0.4893 - accuracy: 0.8330 - val_loss: 0.5854 - val_accuracy: 0.8109\n",
            "Epoch 70/100\n",
            "313/313 [==============================] - 7s 21ms/step - loss: 0.4840 - accuracy: 0.8339 - val_loss: 0.5882 - val_accuracy: 0.8095\n",
            "Epoch 71/100\n",
            "313/313 [==============================] - 7s 22ms/step - loss: 0.4797 - accuracy: 0.8342 - val_loss: 0.6119 - val_accuracy: 0.8092\n",
            "Epoch 72/100\n",
            "313/313 [==============================] - 7s 21ms/step - loss: 0.4728 - accuracy: 0.8372 - val_loss: 0.5797 - val_accuracy: 0.8111\n",
            "Epoch 73/100\n",
            "313/313 [==============================] - 7s 22ms/step - loss: 0.4714 - accuracy: 0.8389 - val_loss: 0.5718 - val_accuracy: 0.8141\n",
            "Epoch 74/100\n",
            "313/313 [==============================] - 7s 21ms/step - loss: 0.4579 - accuracy: 0.8430 - val_loss: 0.5831 - val_accuracy: 0.8156\n",
            "Epoch 75/100\n",
            "313/313 [==============================] - 7s 21ms/step - loss: 0.4552 - accuracy: 0.8439 - val_loss: 0.5638 - val_accuracy: 0.8173\n",
            "Epoch 76/100\n",
            "313/313 [==============================] - 7s 22ms/step - loss: 0.4544 - accuracy: 0.8442 - val_loss: 0.5986 - val_accuracy: 0.8106\n",
            "Epoch 77/100\n",
            "313/313 [==============================] - 7s 21ms/step - loss: 0.4449 - accuracy: 0.8485 - val_loss: 0.5675 - val_accuracy: 0.8206\n",
            "Epoch 78/100\n",
            "313/313 [==============================] - 7s 22ms/step - loss: 0.4489 - accuracy: 0.8452 - val_loss: 0.5922 - val_accuracy: 0.8099\n",
            "Epoch 79/100\n",
            "313/313 [==============================] - 7s 22ms/step - loss: 0.4355 - accuracy: 0.8518 - val_loss: 0.5719 - val_accuracy: 0.8213\n",
            "Epoch 80/100\n",
            "313/313 [==============================] - 7s 22ms/step - loss: 0.4368 - accuracy: 0.8490 - val_loss: 0.5919 - val_accuracy: 0.8135\n",
            "Epoch 81/100\n",
            "313/313 [==============================] - 7s 22ms/step - loss: 0.4252 - accuracy: 0.8533 - val_loss: 0.5901 - val_accuracy: 0.8151\n",
            "Epoch 82/100\n",
            "313/313 [==============================] - 7s 22ms/step - loss: 0.4280 - accuracy: 0.8527 - val_loss: 0.5952 - val_accuracy: 0.8124\n",
            "Epoch 83/100\n",
            "313/313 [==============================] - 7s 22ms/step - loss: 0.4204 - accuracy: 0.8550 - val_loss: 0.5935 - val_accuracy: 0.8142\n",
            "Epoch 84/100\n",
            "313/313 [==============================] - 7s 22ms/step - loss: 0.4180 - accuracy: 0.8549 - val_loss: 0.5686 - val_accuracy: 0.8205\n",
            "Epoch 85/100\n",
            "313/313 [==============================] - 7s 22ms/step - loss: 0.4152 - accuracy: 0.8568 - val_loss: 0.6244 - val_accuracy: 0.8051\n",
            "Epoch 86/100\n",
            "313/313 [==============================] - 7s 22ms/step - loss: 0.4069 - accuracy: 0.8606 - val_loss: 0.5660 - val_accuracy: 0.8205\n",
            "Epoch 87/100\n",
            "313/313 [==============================] - 7s 22ms/step - loss: 0.4041 - accuracy: 0.8604 - val_loss: 0.6105 - val_accuracy: 0.8085\n",
            "Epoch 88/100\n",
            "313/313 [==============================] - 7s 21ms/step - loss: 0.4054 - accuracy: 0.8608 - val_loss: 0.5751 - val_accuracy: 0.8189\n",
            "Epoch 89/100\n",
            "313/313 [==============================] - 7s 21ms/step - loss: 0.3938 - accuracy: 0.8658 - val_loss: 0.5936 - val_accuracy: 0.8158\n",
            "Epoch 90/100\n",
            "313/313 [==============================] - 7s 21ms/step - loss: 0.3918 - accuracy: 0.8647 - val_loss: 0.6020 - val_accuracy: 0.8145\n",
            "Epoch 91/100\n",
            "313/313 [==============================] - 7s 22ms/step - loss: 0.3855 - accuracy: 0.8658 - val_loss: 0.5713 - val_accuracy: 0.8224\n",
            "Epoch 92/100\n",
            "313/313 [==============================] - 7s 21ms/step - loss: 0.3855 - accuracy: 0.8662 - val_loss: 0.5747 - val_accuracy: 0.8218\n",
            "Epoch 93/100\n",
            "313/313 [==============================] - 7s 22ms/step - loss: 0.3846 - accuracy: 0.8677 - val_loss: 0.5593 - val_accuracy: 0.8238\n",
            "Epoch 94/100\n",
            "313/313 [==============================] - 7s 22ms/step - loss: 0.3773 - accuracy: 0.8687 - val_loss: 0.5745 - val_accuracy: 0.8242\n",
            "Epoch 95/100\n",
            "313/313 [==============================] - 7s 22ms/step - loss: 0.3724 - accuracy: 0.8712 - val_loss: 0.5655 - val_accuracy: 0.8226\n",
            "Epoch 96/100\n",
            "313/313 [==============================] - 7s 21ms/step - loss: 0.3714 - accuracy: 0.8719 - val_loss: 0.6090 - val_accuracy: 0.8190\n",
            "Epoch 97/100\n",
            "313/313 [==============================] - 7s 21ms/step - loss: 0.3646 - accuracy: 0.8760 - val_loss: 0.5708 - val_accuracy: 0.8269\n",
            "Epoch 98/100\n",
            "313/313 [==============================] - 7s 22ms/step - loss: 0.3628 - accuracy: 0.8752 - val_loss: 0.5813 - val_accuracy: 0.8219\n",
            "Epoch 99/100\n",
            "313/313 [==============================] - 7s 21ms/step - loss: 0.3611 - accuracy: 0.8750 - val_loss: 0.5731 - val_accuracy: 0.8257\n",
            "Epoch 100/100\n",
            "313/313 [==============================] - 7s 22ms/step - loss: 0.3532 - accuracy: 0.8792 - val_loss: 0.6429 - val_accuracy: 0.8108\n"
          ]
        }
      ],
      "source": [
        "# training/fitting of the complex DNN model\n",
        "history = model.fit(input_X_train, output_Y_train, batch_size=BATCH_SIZE, epochs=N_EPOCH, validation_split=VALIDATION_SPLIT,  verbose=VERBOSE)\n"
      ]
    },
    {
      "cell_type": "markdown",
      "metadata": {
        "id": "hhkax6pXIpkT"
      },
      "source": [
        "**Analysis of the Deeper CNN results**\n",
        "\n",
        "This generates the test scores and plots for the new, deeper DNN.\n"
      ]
    },
    {
      "cell_type": "code",
      "execution_count": null,
      "metadata": {
        "colab": {
          "base_uri": "https://localhost:8080/",
          "height": 1000
        },
        "id": "FfRvK-lUIpkU",
        "outputId": "44f1b5d8-3f0a-405d-c935-286d83feb773"
      },
      "outputs": [
        {
          "output_type": "stream",
          "name": "stdout",
          "text": [
            "79/79 [==============================] - 1s 7ms/step - loss: 0.6801 - accuracy: 0.8038\n",
            "\n",
            "Test score/loss: 0.6801267862319946\n",
            "Test accuracy: 0.8037999868392944\n",
            "dict_keys(['loss', 'accuracy', 'val_loss', 'val_accuracy'])\n"
          ]
        },
        {
          "output_type": "display_data",
          "data": {
            "text/plain": [
              "<Figure size 640x480 with 1 Axes>"
            ],
            "image/png": "[encoded data removed]"
          },
          "metadata": {}
        },
        {
          "output_type": "display_data",
          "data": {
            "text/plain": [
              "<Figure size 640x480 with 1 Axes>"
            ],
            "image/png": "[encoded data removed]"
          },
          "metadata": {}
        }
      ],
      "source": [
        "#Testing\n",
        "score = model.evaluate(input_X_test, output_Y_test, batch_size=BATCH_SIZE, verbose=VERBOSE)\n",
        "print(\"\\nTest score/loss:\", score[0])\n",
        "print('Test accuracy:', score[1])\n",
        "\n",
        "# list all data in history\n",
        "print(history.history.keys())\n",
        "\n",
        "# summarize history for accuracy\n",
        "#plt.plot(mo)\n",
        "plt.plot(history.history['accuracy'])\n",
        "plt.plot(history.history['val_accuracy'])\n",
        "plt.title('model accuracy')\n",
        "plt.ylabel('accuracy')\n",
        "plt.xlabel('epoch')\n",
        "plt.legend(['train', 'test'], loc='upper left')\n",
        "plt.show()\n",
        "\n",
        "# summarize history for loss\n",
        "plt.plot(history.history['loss'])\n",
        "plt.plot(history.history['val_loss'])\n",
        "plt.title('model loss')\n",
        "plt.ylabel('loss')\n",
        "plt.xlabel('epoch')\n",
        "plt.legend(['train', 'test'], loc='upper left')\n",
        "plt.show()"
      ]
    },
    {
      "cell_type": "markdown",
      "metadata": {
        "id": "v-Mzs-L7IpkZ"
      },
      "source": [
        "Data Augmentation\n",
        "-------------\n",
        "\n",
        "To further improve the performance of the model, it is advisable to use a larger training set, to expose the network to more variations of the images.\n",
        "One way to achieve this, without having to collect new images from the real world, is to __augment__ the existing images with multiple types of transformations of the dataset stimuli. This can include rotation of the image, rescaling, horizontal/vertical flip, zooming, channel shift, etc.\n",
        "\n",
        "Below is an example of the code that augments the current datase.\n",
        "\n",
        "\n"
      ]
    },
    {
      "cell_type": "code",
      "execution_count": null,
      "metadata": {
        "id": "-85_nYLXIpkZ"
      },
      "outputs": [],
      "source": [
        "# from tensorflow.keras.preprocessing.image import ImageDataGenerator\n",
        "# #from keras.datasets import cifar10\n",
        "\n",
        "# #load dataset\n",
        "# #(input_X_train, output_y_train), (input_X_test, output_y_test) = cifar10.load_data()\n",
        "\n",
        "# # augumenting\n",
        "# print(\"Augmenting training set images...\")\n",
        "\n",
        "datagen = ImageDataGenerator(\n",
        "   rotation_range=40,\n",
        "   width_shift_range=0.2,\n",
        "   height_shift_range=0.2,\n",
        "   zoom_range=0.2,\n",
        "   horizontal_flip=True,\n",
        "   fill_mode='nearest')\n",
        "\n",
        "# rotation_range is a value in degrees (0 - 180) for randomly rotating pictures\n",
        "# width_shift and height_shift are ranges for randomly translating pictures vertically or horizontally\n",
        "# zoom_range is for randomly zooming pictures\n",
        "# horizontal_flip is for randomly flipping the images horizontally\n",
        "# fill_mode fills in new pixels that can appear after a rotation or a shift\n",
        "\n",
        "from tensorflow.keras.preprocessing.image import ImageDataGenerator\n",
        "\n",
        "datagen = ImageDataGenerator(\n",
        "        featurewise_center=True,  # set input mean to 0 over the dataset\n",
        "        samplewise_center=False,  # set each sample mean to 0\n",
        "        featurewise_std_normalization=True,  # divide inputs by std of the dataset\n",
        "        samplewise_std_normalization=False,  # divide each input by its std\n",
        "        zca_whitening=False,  # apply ZCA whitening\n",
        "        rotation_range=60,  # randomly rotate images in the range (degrees, 0 to 180)\n",
        "        width_shift_range=0.1,  # randomly shift images horizontally (fraction of total width)\n",
        "        height_shift_range=0.1,  # randomly shift images vertically (fraction of total height)\n",
        "        horizontal_flip=True,  # randomly flip images\n",
        "        vertical_flip=True)  # randomly flip images\n",
        "\n",
        "datagen.fit(input_X_train)"
      ]
    },
    {
      "cell_type": "markdown",
      "metadata": {
        "id": "yWIpifR4Ipkc"
      },
      "source": [
        "__Training with augmented data__\n",
        "\n",
        "The function below used the dynamic generation of the augmented data during the training (just in time)."
      ]
    },
    {
      "cell_type": "code",
      "execution_count": null,
      "metadata": {
        "id": "kd_JgZM9Ipkd",
        "colab": {
          "base_uri": "https://localhost:8080/"
        },
        "outputId": "854b7a6b-b3af-4a64-e1ce-2a1bb15b14d8"
      },
      "outputs": [
        {
          "output_type": "stream",
          "name": "stdout",
          "text": [
            "Epoch 1/50\n"
          ]
        },
        {
          "output_type": "stream",
          "name": "stderr",
          "text": [
            "<ipython-input-16-e44ee81e3b4d>:5: UserWarning: `Model.fit_generator` is deprecated and will be removed in a future version. Please use `Model.fit`, which supports generators.\n",
            "  history = model.fit_generator(datagen.flow(input_X_train, output_Y_train, batch_size=BATCH_SIZE), steps_per_epoch=input_X_train.shape[0]//BATCH_SIZE, epochs=50, verbose=VERBOSE)\n"
          ]
        },
        {
          "output_type": "stream",
          "name": "stdout",
          "text": [
            "390/390 [==============================] - 36s 89ms/step - loss: 1.6241 - accuracy: 0.4318\n",
            "Epoch 2/50\n",
            "390/390 [==============================] - 35s 89ms/step - loss: 1.4443 - accuracy: 0.4847\n",
            "Epoch 3/50\n",
            "390/390 [==============================] - 32s 82ms/step - loss: 1.3902 - accuracy: 0.5113\n",
            "Epoch 4/50\n",
            "390/390 [==============================] - 32s 83ms/step - loss: 1.3531 - accuracy: 0.5227\n",
            "Epoch 5/50\n",
            "390/390 [==============================] - 32s 81ms/step - loss: 1.3327 - accuracy: 0.5332\n",
            "Epoch 6/50\n",
            "390/390 [==============================] - 33s 84ms/step - loss: 1.3080 - accuracy: 0.5406\n",
            "Epoch 7/50\n",
            "390/390 [==============================] - 32s 82ms/step - loss: 1.2903 - accuracy: 0.5458\n",
            "Epoch 8/50\n",
            "390/390 [==============================] - 31s 81ms/step - loss: 1.2756 - accuracy: 0.5523\n",
            "Epoch 9/50\n",
            "390/390 [==============================] - 32s 81ms/step - loss: 1.2573 - accuracy: 0.5605\n",
            "Epoch 10/50\n",
            "390/390 [==============================] - 33s 85ms/step - loss: 1.2390 - accuracy: 0.5665\n",
            "Epoch 11/50\n",
            "390/390 [==============================] - 32s 81ms/step - loss: 1.2324 - accuracy: 0.5679\n",
            "Epoch 12/50\n",
            "390/390 [==============================] - 31s 80ms/step - loss: 1.2185 - accuracy: 0.5728\n",
            "Epoch 13/50\n",
            "390/390 [==============================] - 33s 84ms/step - loss: 1.2081 - accuracy: 0.5776\n",
            "Epoch 14/50\n",
            "390/390 [==============================] - 32s 81ms/step - loss: 1.1982 - accuracy: 0.5809\n",
            "Epoch 15/50\n",
            "390/390 [==============================] - 32s 81ms/step - loss: 1.1899 - accuracy: 0.5855\n",
            "Epoch 16/50\n",
            "390/390 [==============================] - 33s 83ms/step - loss: 1.1833 - accuracy: 0.5866\n",
            "Epoch 17/50\n",
            "390/390 [==============================] - 31s 79ms/step - loss: 1.1707 - accuracy: 0.5890\n",
            "Epoch 18/50\n",
            "390/390 [==============================] - 33s 84ms/step - loss: 1.1684 - accuracy: 0.5935\n",
            "Epoch 19/50\n",
            "390/390 [==============================] - 33s 84ms/step - loss: 1.1635 - accuracy: 0.5949\n",
            "Epoch 20/50\n",
            "390/390 [==============================] - 31s 80ms/step - loss: 1.1548 - accuracy: 0.5975\n",
            "Epoch 21/50\n",
            "390/390 [==============================] - 33s 84ms/step - loss: 1.1522 - accuracy: 0.5967\n",
            "Epoch 22/50\n",
            "390/390 [==============================] - 33s 84ms/step - loss: 1.1414 - accuracy: 0.6014\n",
            "Epoch 23/50\n",
            "390/390 [==============================] - 32s 83ms/step - loss: 1.1319 - accuracy: 0.6061\n",
            "Epoch 24/50\n",
            "390/390 [==============================] - 32s 83ms/step - loss: 1.1330 - accuracy: 0.6050\n",
            "Epoch 25/50\n",
            "390/390 [==============================] - 32s 82ms/step - loss: 1.1271 - accuracy: 0.6083\n",
            "Epoch 26/50\n",
            "390/390 [==============================] - 33s 85ms/step - loss: 1.1205 - accuracy: 0.6086\n",
            "Epoch 27/50\n",
            "390/390 [==============================] - 32s 82ms/step - loss: 1.1207 - accuracy: 0.6106\n",
            "Epoch 28/50\n",
            "390/390 [==============================] - 33s 85ms/step - loss: 1.1142 - accuracy: 0.6140\n",
            "Epoch 29/50\n",
            "390/390 [==============================] - 32s 81ms/step - loss: 1.1112 - accuracy: 0.6143\n",
            "Epoch 30/50\n",
            "390/390 [==============================] - 34s 86ms/step - loss: 1.1073 - accuracy: 0.6132\n",
            "Epoch 31/50\n",
            "390/390 [==============================] - 33s 84ms/step - loss: 1.0941 - accuracy: 0.6197\n",
            "Epoch 32/50\n",
            "390/390 [==============================] - 32s 83ms/step - loss: 1.1002 - accuracy: 0.6162\n",
            "Epoch 33/50\n",
            "390/390 [==============================] - 33s 83ms/step - loss: 1.0881 - accuracy: 0.6215\n",
            "Epoch 34/50\n",
            "390/390 [==============================] - 34s 86ms/step - loss: 1.0855 - accuracy: 0.6231\n",
            "Epoch 35/50\n",
            "390/390 [==============================] - 32s 81ms/step - loss: 1.0841 - accuracy: 0.6241\n",
            "Epoch 36/50\n",
            "390/390 [==============================] - 33s 85ms/step - loss: 1.0789 - accuracy: 0.6250\n",
            "Epoch 37/50\n",
            "390/390 [==============================] - 32s 81ms/step - loss: 1.0739 - accuracy: 0.6265\n",
            "Epoch 38/50\n",
            "390/390 [==============================] - 35s 91ms/step - loss: 1.0724 - accuracy: 0.6268\n",
            "Epoch 39/50\n",
            "390/390 [==============================] - 32s 82ms/step - loss: 1.0687 - accuracy: 0.6287\n",
            "Epoch 40/50\n",
            "390/390 [==============================] - 33s 84ms/step - loss: 1.0627 - accuracy: 0.6322\n",
            "Epoch 41/50\n",
            "390/390 [==============================] - 33s 85ms/step - loss: 1.0610 - accuracy: 0.6312\n",
            "Epoch 42/50\n",
            "390/390 [==============================] - 33s 84ms/step - loss: 1.0627 - accuracy: 0.6332\n",
            "Epoch 43/50\n",
            "390/390 [==============================] - 32s 83ms/step - loss: 1.0608 - accuracy: 0.6324\n",
            "Epoch 44/50\n",
            "390/390 [==============================] - 32s 82ms/step - loss: 1.0507 - accuracy: 0.6347\n",
            "Epoch 45/50\n",
            "390/390 [==============================] - 32s 82ms/step - loss: 1.0497 - accuracy: 0.6361\n",
            "Epoch 46/50\n",
            "390/390 [==============================] - 33s 83ms/step - loss: 1.0498 - accuracy: 0.6368\n",
            "Epoch 47/50\n",
            "390/390 [==============================] - 32s 83ms/step - loss: 1.0506 - accuracy: 0.6358\n",
            "Epoch 48/50\n",
            "390/390 [==============================] - 31s 80ms/step - loss: 1.0421 - accuracy: 0.6404\n",
            "Epoch 49/50\n",
            "390/390 [==============================] - 32s 83ms/step - loss: 1.0423 - accuracy: 0.6391\n",
            "Epoch 50/50\n",
            "390/390 [==============================] - 32s 82ms/step - loss: 1.0365 - accuracy: 0.6411\n"
          ]
        }
      ],
      "source": [
        "\n",
        "#fit the dataset\n",
        "datagen.fit(input_X_train)\n",
        "\n",
        "# train by fitting the model on batches with real-time data augmentation\n",
        "history = model.fit_generator(datagen.flow(input_X_train, output_Y_train, batch_size=BATCH_SIZE), steps_per_epoch=input_X_train.shape[0]//BATCH_SIZE, epochs=50, verbose=VERBOSE)\n"
      ]
    },
    {
      "cell_type": "markdown",
      "metadata": {
        "id": "Y0ZLORlPIpkh"
      },
      "source": [
        "**Analysis of the Data Augmented, Deeper CNN results**\n",
        "\n",
        "This generates the test scores and plots for the deeper DNN trained on the augmented data."
      ]
    },
    {
      "cell_type": "code",
      "execution_count": null,
      "metadata": {
        "colab": {
          "base_uri": "https://localhost:8080/",
          "height": 1000
        },
        "id": "BxZG9aM2Ipki",
        "outputId": "398c57d5-f93a-4315-cd90-aacc9e53fd3e"
      },
      "outputs": [
        {
          "output_type": "stream",
          "name": "stdout",
          "text": [
            "79/79 [==============================] - 1s 8ms/step - loss: 2.2011 - accuracy: 0.3514\n",
            "\n",
            "Test score/loss: 2.201136827468872\n",
            "Test accuracy: 0.3513999879360199\n",
            "dict_keys(['loss', 'accuracy'])\n"
          ]
        },
        {
          "output_type": "display_data",
          "data": {
            "text/plain": [
              "<Figure size 640x480 with 1 Axes>"
            ],
            "image/png": "[encoded data removed]"
          },
          "metadata": {}
        },
        {
          "output_type": "display_data",
          "data": {
            "text/plain": [
              "<Figure size 640x480 with 1 Axes>"
            ],
            "image/png": "[encoded data removed]"
          },
          "metadata": {}
        }
      ],
      "source": [
        "#Testing\n",
        "score = model.evaluate(input_X_test, output_Y_test, batch_size=BATCH_SIZE, verbose=VERBOSE)\n",
        "print(\"\\nTest score/loss:\", score[0])\n",
        "print('Test accuracy:', score[1])\n",
        "\n",
        "# list all data in history\n",
        "print(history.history.keys())\n",
        "\n",
        "# summarize history for accuracy\n",
        "#plt.plot(mo)\n",
        "plt.plot(history.history['accuracy'])\n",
        "plt.title('model accuracy')\n",
        "plt.ylabel('accuracy')\n",
        "plt.xlabel('epoch')\n",
        "plt.legend(['train', 'test'], loc='upper left')\n",
        "plt.show()\n",
        "\n",
        "# summarize history for loss\n",
        "plt.plot(history.history['loss'])\n",
        "plt.title('model loss')\n",
        "plt.ylabel('loss')\n",
        "plt.xlabel('epoch')\n",
        "plt.legend(['train', 'test'], loc='upper left')\n",
        "plt.show()\n",
        "\n"
      ]
    },
    {
      "cell_type": "markdown",
      "metadata": {
        "id": "4Bwi-kLYIpkl"
      },
      "source": [
        "Below is a commented different example of a data augmentation approach.\n",
        "\n",
        "But we have carried out plenty of slow, long simulations for this class, and we can stop here."
      ]
    },
    {
      "cell_type": "code",
      "execution_count": null,
      "metadata": {
        "id": "q_JAWfc4Ipkm"
      },
      "outputs": [],
      "source": [
        "\n",
        "# from tensorflow.keras.preprocessing.image import ImageDataGenerator\n",
        "\n",
        "# datagen = ImageDataGenerator(\n",
        "#         featurewise_center=True,  # set input mean to 0 over the dataset\n",
        "#         samplewise_center=False,  # set each sample mean to 0\n",
        "#         featurewise_std_normalization=True,  # divide inputs by std of the dataset\n",
        "#         samplewise_std_normalization=False,  # divide each input by its std\n",
        "#         zca_whitening=False,  # apply ZCA whitening\n",
        "#         rotation_range=60,  # randomly rotate images in the range (degrees, 0 to 180)\n",
        "#         width_shift_range=0.1,  # randomly shift images horizontally (fraction of total width)\n",
        "#         height_shift_range=0.1,  # randomly shift images vertically (fraction of total height)\n",
        "#         horizontal_flip=True,  # randomly flip images\n",
        "#         vertical_flip=True)  # randomly flip images\n",
        "\n",
        "# datagen.fit(input_X_train)"
      ]
    },
    {
      "cell_type": "markdown",
      "metadata": {
        "id": "ouCjBST_Ipkq"
      },
      "source": [
        "Conclusions\n",
        "-------------\n",
        "\n",
        "Today we learned to train more complex DNNs, and to use data augmentation to further improve the network training and performance.\n",
        "\n",
        "**Copyright (c)** 2022 Angelo Cangelosi, MIT License. Code and examples adapted from Gulli & Pal (2017) Deep Learning with Kera. Punkt Publishing. With support from Wenjie Huang."
      ]
    }
  ],
  "metadata": {
    "accelerator": "GPU",
    "colab": {
      "provenance": []
    },
    "kernelspec": {
      "display_name": "Python 3 (ipykernel)",
      "language": "python",
      "name": "python3"
    },
    "language_info": {
      "codemirror_mode": {
        "name": "ipython",
        "version": 3
      },
      "file_extension": ".py",
      "mimetype": "text/x-python",
      "name": "python",
      "nbconvert_exporter": "python",
      "pygments_lexer": "ipython3",
      "version": "3.9.7"
    }
  },
  "nbformat": 4,
  "nbformat_minor": 0
}